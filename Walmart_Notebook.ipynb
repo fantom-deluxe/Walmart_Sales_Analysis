{
 "cells": [
  {
   "metadata": {},
   "cell_type": "markdown",
   "source": "# Walmart Data Analysis Project",
   "id": "adad88cd7f5363c2"
  },
  {
   "metadata": {},
   "cell_type": "markdown",
   "source": [
    "### Dataset Overview -\n",
    "<p> The sales data includes store number, date, weekly sales, holiday flag, temperature, fuel price,\n",
    "CPI, and unemployment. Analyzing these factors can help in understanding sales dynamics and\n",
    "formulating targeted strategies."
   ],
   "id": "cca047b93178b7d9"
  },
  {
   "metadata": {},
   "cell_type": "markdown",
   "source": [
    "### Shape of Dataset\n",
    "\n",
    "- **Rows (Observations):** Varies depending on cleaned version (initially 6435)\n",
    "- **Columns:** 12"
   ],
   "id": "de48c5b0a5a28fab"
  },
  {
   "metadata": {},
   "cell_type": "markdown",
   "source": "### 1. Import Libraries",
   "id": "f28180e2362f076b"
  },
  {
   "metadata": {
    "ExecuteTime": {
     "end_time": "2025-07-02T16:13:35.045527Z",
     "start_time": "2025-07-02T16:13:31.573397Z"
    }
   },
   "cell_type": "code",
   "source": [
    "import numpy as np\n",
    "import pandas as pd\n",
    "import matplotlib.pyplot as plt\n",
    "from matplotlib.pyplot import figure"
   ],
   "id": "920c10158fcf3a05",
   "outputs": [],
   "execution_count": 1
  },
  {
   "metadata": {},
   "cell_type": "markdown",
   "source": "### 2. Load the dataset",
   "id": "fc2cb2907112665f"
  },
  {
   "metadata": {
    "ExecuteTime": {
     "end_time": "2025-07-02T16:13:48.279227Z",
     "start_time": "2025-07-02T16:13:48.245261Z"
    }
   },
   "cell_type": "code",
   "source": [
    "df = pd.read_csv('data/Walmart_sales_analysis.csv')\n",
    "df.shape"
   ],
   "id": "1918328d2bfb3de",
   "outputs": [
    {
     "data": {
      "text/plain": [
       "(6435, 8)"
      ]
     },
     "execution_count": 3,
     "metadata": {},
     "output_type": "execute_result"
    }
   ],
   "execution_count": 3
  },
  {
   "metadata": {
    "ExecuteTime": {
     "end_time": "2025-07-02T16:13:48.505490Z",
     "start_time": "2025-07-02T16:13:48.487263Z"
    }
   },
   "cell_type": "code",
   "source": "df.columns\n",
   "id": "ffdf692f6c32e2a4",
   "outputs": [
    {
     "data": {
      "text/plain": [
       "Index(['Store_Number', 'Date', 'Weekly_Sales', 'Holiday_Flag', 'Temperature',\n",
       "       'Fuel_Price', ' CPI ', 'Unemployment'],\n",
       "      dtype='object')"
      ]
     },
     "execution_count": 4,
     "metadata": {},
     "output_type": "execute_result"
    }
   ],
   "execution_count": 4
  },
  {
   "metadata": {
    "ExecuteTime": {
     "end_time": "2025-07-02T16:13:48.755423Z",
     "start_time": "2025-07-02T16:13:48.707500Z"
    }
   },
   "cell_type": "code",
   "source": "df.head()",
   "id": "78ff4cd4eff6b2c5",
   "outputs": [
    {
     "data": {
      "text/plain": [
       "   Store_Number        Date Weekly_Sales  Holiday_Flag  Temperature  \\\n",
       "0             1  02-05-2010    16,43,691             0        42.31   \n",
       "1             1  02-12-2010    16,41,957             1        38.51   \n",
       "2             1   2/19/2010    16,11,968             0        39.93   \n",
       "3             1   2/26/2010    14,09,728             0        46.63   \n",
       "4             1  03-05-2010    15,54,807             0        46.50   \n",
       "\n",
       "   Fuel_Price   CPI   Unemployment  \n",
       "0       2.572    211         8.106  \n",
       "1       2.548    211         8.106  \n",
       "2       2.514    211         8.106  \n",
       "3       2.561    211         8.106  \n",
       "4       2.625    211         8.106  "
      ],
      "text/html": [
       "<div>\n",
       "<style scoped>\n",
       "    .dataframe tbody tr th:only-of-type {\n",
       "        vertical-align: middle;\n",
       "    }\n",
       "\n",
       "    .dataframe tbody tr th {\n",
       "        vertical-align: top;\n",
       "    }\n",
       "\n",
       "    .dataframe thead th {\n",
       "        text-align: right;\n",
       "    }\n",
       "</style>\n",
       "<table border=\"1\" class=\"dataframe\">\n",
       "  <thead>\n",
       "    <tr style=\"text-align: right;\">\n",
       "      <th></th>\n",
       "      <th>Store_Number</th>\n",
       "      <th>Date</th>\n",
       "      <th>Weekly_Sales</th>\n",
       "      <th>Holiday_Flag</th>\n",
       "      <th>Temperature</th>\n",
       "      <th>Fuel_Price</th>\n",
       "      <th>CPI</th>\n",
       "      <th>Unemployment</th>\n",
       "    </tr>\n",
       "  </thead>\n",
       "  <tbody>\n",
       "    <tr>\n",
       "      <th>0</th>\n",
       "      <td>1</td>\n",
       "      <td>02-05-2010</td>\n",
       "      <td>16,43,691</td>\n",
       "      <td>0</td>\n",
       "      <td>42.31</td>\n",
       "      <td>2.572</td>\n",
       "      <td>211</td>\n",
       "      <td>8.106</td>\n",
       "    </tr>\n",
       "    <tr>\n",
       "      <th>1</th>\n",
       "      <td>1</td>\n",
       "      <td>02-12-2010</td>\n",
       "      <td>16,41,957</td>\n",
       "      <td>1</td>\n",
       "      <td>38.51</td>\n",
       "      <td>2.548</td>\n",
       "      <td>211</td>\n",
       "      <td>8.106</td>\n",
       "    </tr>\n",
       "    <tr>\n",
       "      <th>2</th>\n",
       "      <td>1</td>\n",
       "      <td>2/19/2010</td>\n",
       "      <td>16,11,968</td>\n",
       "      <td>0</td>\n",
       "      <td>39.93</td>\n",
       "      <td>2.514</td>\n",
       "      <td>211</td>\n",
       "      <td>8.106</td>\n",
       "    </tr>\n",
       "    <tr>\n",
       "      <th>3</th>\n",
       "      <td>1</td>\n",
       "      <td>2/26/2010</td>\n",
       "      <td>14,09,728</td>\n",
       "      <td>0</td>\n",
       "      <td>46.63</td>\n",
       "      <td>2.561</td>\n",
       "      <td>211</td>\n",
       "      <td>8.106</td>\n",
       "    </tr>\n",
       "    <tr>\n",
       "      <th>4</th>\n",
       "      <td>1</td>\n",
       "      <td>03-05-2010</td>\n",
       "      <td>15,54,807</td>\n",
       "      <td>0</td>\n",
       "      <td>46.50</td>\n",
       "      <td>2.625</td>\n",
       "      <td>211</td>\n",
       "      <td>8.106</td>\n",
       "    </tr>\n",
       "  </tbody>\n",
       "</table>\n",
       "</div>"
      ]
     },
     "execution_count": 5,
     "metadata": {},
     "output_type": "execute_result"
    }
   ],
   "execution_count": 5
  },
  {
   "metadata": {
    "ExecuteTime": {
     "end_time": "2025-07-02T16:13:49.075921Z",
     "start_time": "2025-07-02T16:13:49.052921Z"
    }
   },
   "cell_type": "code",
   "source": "df.dtypes",
   "id": "ac9caa211f6424d2",
   "outputs": [
    {
     "data": {
      "text/plain": [
       "Store_Number      int64\n",
       "Date             object\n",
       "Weekly_Sales     object\n",
       "Holiday_Flag      int64\n",
       "Temperature     float64\n",
       "Fuel_Price      float64\n",
       " CPI              int64\n",
       "Unemployment    float64\n",
       "dtype: object"
      ]
     },
     "execution_count": 6,
     "metadata": {},
     "output_type": "execute_result"
    }
   ],
   "execution_count": 6
  },
  {
   "metadata": {
    "ExecuteTime": {
     "end_time": "2025-07-02T16:13:49.602190Z",
     "start_time": "2025-07-02T16:13:49.231717Z"
    }
   },
   "cell_type": "code",
   "source": "df.describe()",
   "id": "b625081837ab6dcf",
   "outputs": [
    {
     "data": {
      "text/plain": [
       "       Store_Number  Holiday_Flag  Temperature   Fuel_Price         CPI   \\\n",
       "count   6435.000000   6435.000000  6435.000000  6435.000000  6435.000000   \n",
       "mean      23.000000      0.069930    60.663782     3.358607   171.583994   \n",
       "std       12.988182      0.255049    18.444933     0.459020    39.351305   \n",
       "min        1.000000      0.000000    -2.060000     2.472000   126.000000   \n",
       "25%       12.000000      0.000000    47.460000     2.933000   132.000000   \n",
       "50%       23.000000      0.000000    62.670000     3.445000   183.000000   \n",
       "75%       34.000000      0.000000    74.940000     3.735000   213.000000   \n",
       "max       45.000000      1.000000   100.140000     4.468000   227.000000   \n",
       "\n",
       "       Unemployment  \n",
       "count   6435.000000  \n",
       "mean       7.999151  \n",
       "std        1.875885  \n",
       "min        3.879000  \n",
       "25%        6.891000  \n",
       "50%        7.874000  \n",
       "75%        8.622000  \n",
       "max       14.313000  "
      ],
      "text/html": [
       "<div>\n",
       "<style scoped>\n",
       "    .dataframe tbody tr th:only-of-type {\n",
       "        vertical-align: middle;\n",
       "    }\n",
       "\n",
       "    .dataframe tbody tr th {\n",
       "        vertical-align: top;\n",
       "    }\n",
       "\n",
       "    .dataframe thead th {\n",
       "        text-align: right;\n",
       "    }\n",
       "</style>\n",
       "<table border=\"1\" class=\"dataframe\">\n",
       "  <thead>\n",
       "    <tr style=\"text-align: right;\">\n",
       "      <th></th>\n",
       "      <th>Store_Number</th>\n",
       "      <th>Holiday_Flag</th>\n",
       "      <th>Temperature</th>\n",
       "      <th>Fuel_Price</th>\n",
       "      <th>CPI</th>\n",
       "      <th>Unemployment</th>\n",
       "    </tr>\n",
       "  </thead>\n",
       "  <tbody>\n",
       "    <tr>\n",
       "      <th>count</th>\n",
       "      <td>6435.000000</td>\n",
       "      <td>6435.000000</td>\n",
       "      <td>6435.000000</td>\n",
       "      <td>6435.000000</td>\n",
       "      <td>6435.000000</td>\n",
       "      <td>6435.000000</td>\n",
       "    </tr>\n",
       "    <tr>\n",
       "      <th>mean</th>\n",
       "      <td>23.000000</td>\n",
       "      <td>0.069930</td>\n",
       "      <td>60.663782</td>\n",
       "      <td>3.358607</td>\n",
       "      <td>171.583994</td>\n",
       "      <td>7.999151</td>\n",
       "    </tr>\n",
       "    <tr>\n",
       "      <th>std</th>\n",
       "      <td>12.988182</td>\n",
       "      <td>0.255049</td>\n",
       "      <td>18.444933</td>\n",
       "      <td>0.459020</td>\n",
       "      <td>39.351305</td>\n",
       "      <td>1.875885</td>\n",
       "    </tr>\n",
       "    <tr>\n",
       "      <th>min</th>\n",
       "      <td>1.000000</td>\n",
       "      <td>0.000000</td>\n",
       "      <td>-2.060000</td>\n",
       "      <td>2.472000</td>\n",
       "      <td>126.000000</td>\n",
       "      <td>3.879000</td>\n",
       "    </tr>\n",
       "    <tr>\n",
       "      <th>25%</th>\n",
       "      <td>12.000000</td>\n",
       "      <td>0.000000</td>\n",
       "      <td>47.460000</td>\n",
       "      <td>2.933000</td>\n",
       "      <td>132.000000</td>\n",
       "      <td>6.891000</td>\n",
       "    </tr>\n",
       "    <tr>\n",
       "      <th>50%</th>\n",
       "      <td>23.000000</td>\n",
       "      <td>0.000000</td>\n",
       "      <td>62.670000</td>\n",
       "      <td>3.445000</td>\n",
       "      <td>183.000000</td>\n",
       "      <td>7.874000</td>\n",
       "    </tr>\n",
       "    <tr>\n",
       "      <th>75%</th>\n",
       "      <td>34.000000</td>\n",
       "      <td>0.000000</td>\n",
       "      <td>74.940000</td>\n",
       "      <td>3.735000</td>\n",
       "      <td>213.000000</td>\n",
       "      <td>8.622000</td>\n",
       "    </tr>\n",
       "    <tr>\n",
       "      <th>max</th>\n",
       "      <td>45.000000</td>\n",
       "      <td>1.000000</td>\n",
       "      <td>100.140000</td>\n",
       "      <td>4.468000</td>\n",
       "      <td>227.000000</td>\n",
       "      <td>14.313000</td>\n",
       "    </tr>\n",
       "  </tbody>\n",
       "</table>\n",
       "</div>"
      ]
     },
     "execution_count": 7,
     "metadata": {},
     "output_type": "execute_result"
    }
   ],
   "execution_count": 7
  },
  {
   "metadata": {},
   "cell_type": "markdown",
   "source": "### 3. Data Cleaning",
   "id": "b6b7786e586c2d13"
  },
  {
   "metadata": {},
   "cell_type": "markdown",
   "source": "<p> Checking for null values in the dataset",
   "id": "76c8781a34517a0d"
  },
  {
   "metadata": {
    "ExecuteTime": {
     "end_time": "2025-07-02T16:13:49.859150Z",
     "start_time": "2025-07-02T16:13:49.837150Z"
    }
   },
   "cell_type": "code",
   "source": "df.isnull().sum()",
   "id": "82301bc86507cdef",
   "outputs": [
    {
     "data": {
      "text/plain": [
       "Store_Number    0\n",
       "Date            0\n",
       "Weekly_Sales    0\n",
       "Holiday_Flag    0\n",
       "Temperature     0\n",
       "Fuel_Price      0\n",
       " CPI            0\n",
       "Unemployment    0\n",
       "dtype: int64"
      ]
     },
     "execution_count": 8,
     "metadata": {},
     "output_type": "execute_result"
    }
   ],
   "execution_count": 8
  },
  {
   "metadata": {},
   "cell_type": "markdown",
   "source": "<p> Removing the null values from the dataset (there is no null value in this case)",
   "id": "2bc980e9d459448f"
  },
  {
   "metadata": {
    "ExecuteTime": {
     "end_time": "2025-07-02T16:13:50.344933Z",
     "start_time": "2025-07-02T16:13:50.077720Z"
    }
   },
   "cell_type": "code",
   "source": "df.dropna()",
   "id": "9d961139cfa2c539",
   "outputs": [
    {
     "data": {
      "text/plain": [
       "      Store_Number        Date Weekly_Sales  Holiday_Flag  Temperature  \\\n",
       "0                1  02-05-2010    16,43,691             0        42.31   \n",
       "1                1  02-12-2010    16,41,957             1        38.51   \n",
       "2                1   2/19/2010    16,11,968             0        39.93   \n",
       "3                1   2/26/2010    14,09,728             0        46.63   \n",
       "4                1  03-05-2010    15,54,807             0        46.50   \n",
       "...            ...         ...          ...           ...          ...   \n",
       "6430            45   9/28/2012     7,13,174             0        64.88   \n",
       "6431            45  10-05-2012     7,33,455             0        64.89   \n",
       "6432            45  10-12-2012     7,34,464             0        54.47   \n",
       "6433            45  10/19/2012     7,18,126             0        56.47   \n",
       "6434            45  10/26/2012     7,60,281             0        58.85   \n",
       "\n",
       "      Fuel_Price   CPI   Unemployment  \n",
       "0          2.572    211         8.106  \n",
       "1          2.548    211         8.106  \n",
       "2          2.514    211         8.106  \n",
       "3          2.561    211         8.106  \n",
       "4          2.625    211         8.106  \n",
       "...          ...    ...           ...  \n",
       "6430       3.997    192         8.684  \n",
       "6431       3.985    192         8.667  \n",
       "6432       4.000    192         8.667  \n",
       "6433       3.969    192         8.667  \n",
       "6434       3.882    192         8.667  \n",
       "\n",
       "[6435 rows x 8 columns]"
      ],
      "text/html": [
       "<div>\n",
       "<style scoped>\n",
       "    .dataframe tbody tr th:only-of-type {\n",
       "        vertical-align: middle;\n",
       "    }\n",
       "\n",
       "    .dataframe tbody tr th {\n",
       "        vertical-align: top;\n",
       "    }\n",
       "\n",
       "    .dataframe thead th {\n",
       "        text-align: right;\n",
       "    }\n",
       "</style>\n",
       "<table border=\"1\" class=\"dataframe\">\n",
       "  <thead>\n",
       "    <tr style=\"text-align: right;\">\n",
       "      <th></th>\n",
       "      <th>Store_Number</th>\n",
       "      <th>Date</th>\n",
       "      <th>Weekly_Sales</th>\n",
       "      <th>Holiday_Flag</th>\n",
       "      <th>Temperature</th>\n",
       "      <th>Fuel_Price</th>\n",
       "      <th>CPI</th>\n",
       "      <th>Unemployment</th>\n",
       "    </tr>\n",
       "  </thead>\n",
       "  <tbody>\n",
       "    <tr>\n",
       "      <th>0</th>\n",
       "      <td>1</td>\n",
       "      <td>02-05-2010</td>\n",
       "      <td>16,43,691</td>\n",
       "      <td>0</td>\n",
       "      <td>42.31</td>\n",
       "      <td>2.572</td>\n",
       "      <td>211</td>\n",
       "      <td>8.106</td>\n",
       "    </tr>\n",
       "    <tr>\n",
       "      <th>1</th>\n",
       "      <td>1</td>\n",
       "      <td>02-12-2010</td>\n",
       "      <td>16,41,957</td>\n",
       "      <td>1</td>\n",
       "      <td>38.51</td>\n",
       "      <td>2.548</td>\n",
       "      <td>211</td>\n",
       "      <td>8.106</td>\n",
       "    </tr>\n",
       "    <tr>\n",
       "      <th>2</th>\n",
       "      <td>1</td>\n",
       "      <td>2/19/2010</td>\n",
       "      <td>16,11,968</td>\n",
       "      <td>0</td>\n",
       "      <td>39.93</td>\n",
       "      <td>2.514</td>\n",
       "      <td>211</td>\n",
       "      <td>8.106</td>\n",
       "    </tr>\n",
       "    <tr>\n",
       "      <th>3</th>\n",
       "      <td>1</td>\n",
       "      <td>2/26/2010</td>\n",
       "      <td>14,09,728</td>\n",
       "      <td>0</td>\n",
       "      <td>46.63</td>\n",
       "      <td>2.561</td>\n",
       "      <td>211</td>\n",
       "      <td>8.106</td>\n",
       "    </tr>\n",
       "    <tr>\n",
       "      <th>4</th>\n",
       "      <td>1</td>\n",
       "      <td>03-05-2010</td>\n",
       "      <td>15,54,807</td>\n",
       "      <td>0</td>\n",
       "      <td>46.50</td>\n",
       "      <td>2.625</td>\n",
       "      <td>211</td>\n",
       "      <td>8.106</td>\n",
       "    </tr>\n",
       "    <tr>\n",
       "      <th>...</th>\n",
       "      <td>...</td>\n",
       "      <td>...</td>\n",
       "      <td>...</td>\n",
       "      <td>...</td>\n",
       "      <td>...</td>\n",
       "      <td>...</td>\n",
       "      <td>...</td>\n",
       "      <td>...</td>\n",
       "    </tr>\n",
       "    <tr>\n",
       "      <th>6430</th>\n",
       "      <td>45</td>\n",
       "      <td>9/28/2012</td>\n",
       "      <td>7,13,174</td>\n",
       "      <td>0</td>\n",
       "      <td>64.88</td>\n",
       "      <td>3.997</td>\n",
       "      <td>192</td>\n",
       "      <td>8.684</td>\n",
       "    </tr>\n",
       "    <tr>\n",
       "      <th>6431</th>\n",
       "      <td>45</td>\n",
       "      <td>10-05-2012</td>\n",
       "      <td>7,33,455</td>\n",
       "      <td>0</td>\n",
       "      <td>64.89</td>\n",
       "      <td>3.985</td>\n",
       "      <td>192</td>\n",
       "      <td>8.667</td>\n",
       "    </tr>\n",
       "    <tr>\n",
       "      <th>6432</th>\n",
       "      <td>45</td>\n",
       "      <td>10-12-2012</td>\n",
       "      <td>7,34,464</td>\n",
       "      <td>0</td>\n",
       "      <td>54.47</td>\n",
       "      <td>4.000</td>\n",
       "      <td>192</td>\n",
       "      <td>8.667</td>\n",
       "    </tr>\n",
       "    <tr>\n",
       "      <th>6433</th>\n",
       "      <td>45</td>\n",
       "      <td>10/19/2012</td>\n",
       "      <td>7,18,126</td>\n",
       "      <td>0</td>\n",
       "      <td>56.47</td>\n",
       "      <td>3.969</td>\n",
       "      <td>192</td>\n",
       "      <td>8.667</td>\n",
       "    </tr>\n",
       "    <tr>\n",
       "      <th>6434</th>\n",
       "      <td>45</td>\n",
       "      <td>10/26/2012</td>\n",
       "      <td>7,60,281</td>\n",
       "      <td>0</td>\n",
       "      <td>58.85</td>\n",
       "      <td>3.882</td>\n",
       "      <td>192</td>\n",
       "      <td>8.667</td>\n",
       "    </tr>\n",
       "  </tbody>\n",
       "</table>\n",
       "<p>6435 rows × 8 columns</p>\n",
       "</div>"
      ]
     },
     "execution_count": 9,
     "metadata": {},
     "output_type": "execute_result"
    }
   ],
   "execution_count": 9
  },
  {
   "metadata": {},
   "cell_type": "markdown",
   "source": "Checking for duplicate data",
   "id": "6e1d56d7925b55f7"
  },
  {
   "metadata": {
    "ExecuteTime": {
     "end_time": "2025-07-02T16:13:50.570253Z",
     "start_time": "2025-07-02T16:13:50.532110Z"
    }
   },
   "cell_type": "code",
   "source": "df.duplicated().sum()",
   "id": "bae0febe4491cddc",
   "outputs": [
    {
     "data": {
      "text/plain": [
       "np.int64(0)"
      ]
     },
     "execution_count": 10,
     "metadata": {},
     "output_type": "execute_result"
    }
   ],
   "execution_count": 10
  },
  {
   "metadata": {},
   "cell_type": "markdown",
   "source": "<p> Removing duplicate data (no duplicates in this case)",
   "id": "8fbbad49fef7bf53"
  },
  {
   "metadata": {
    "ExecuteTime": {
     "end_time": "2025-07-02T16:13:50.784005Z",
     "start_time": "2025-07-02T16:13:50.728597Z"
    }
   },
   "cell_type": "code",
   "source": "df.drop_duplicates()",
   "id": "ccc7a3e9be5daae8",
   "outputs": [
    {
     "data": {
      "text/plain": [
       "      Store_Number        Date Weekly_Sales  Holiday_Flag  Temperature  \\\n",
       "0                1  02-05-2010    16,43,691             0        42.31   \n",
       "1                1  02-12-2010    16,41,957             1        38.51   \n",
       "2                1   2/19/2010    16,11,968             0        39.93   \n",
       "3                1   2/26/2010    14,09,728             0        46.63   \n",
       "4                1  03-05-2010    15,54,807             0        46.50   \n",
       "...            ...         ...          ...           ...          ...   \n",
       "6430            45   9/28/2012     7,13,174             0        64.88   \n",
       "6431            45  10-05-2012     7,33,455             0        64.89   \n",
       "6432            45  10-12-2012     7,34,464             0        54.47   \n",
       "6433            45  10/19/2012     7,18,126             0        56.47   \n",
       "6434            45  10/26/2012     7,60,281             0        58.85   \n",
       "\n",
       "      Fuel_Price   CPI   Unemployment  \n",
       "0          2.572    211         8.106  \n",
       "1          2.548    211         8.106  \n",
       "2          2.514    211         8.106  \n",
       "3          2.561    211         8.106  \n",
       "4          2.625    211         8.106  \n",
       "...          ...    ...           ...  \n",
       "6430       3.997    192         8.684  \n",
       "6431       3.985    192         8.667  \n",
       "6432       4.000    192         8.667  \n",
       "6433       3.969    192         8.667  \n",
       "6434       3.882    192         8.667  \n",
       "\n",
       "[6435 rows x 8 columns]"
      ],
      "text/html": [
       "<div>\n",
       "<style scoped>\n",
       "    .dataframe tbody tr th:only-of-type {\n",
       "        vertical-align: middle;\n",
       "    }\n",
       "\n",
       "    .dataframe tbody tr th {\n",
       "        vertical-align: top;\n",
       "    }\n",
       "\n",
       "    .dataframe thead th {\n",
       "        text-align: right;\n",
       "    }\n",
       "</style>\n",
       "<table border=\"1\" class=\"dataframe\">\n",
       "  <thead>\n",
       "    <tr style=\"text-align: right;\">\n",
       "      <th></th>\n",
       "      <th>Store_Number</th>\n",
       "      <th>Date</th>\n",
       "      <th>Weekly_Sales</th>\n",
       "      <th>Holiday_Flag</th>\n",
       "      <th>Temperature</th>\n",
       "      <th>Fuel_Price</th>\n",
       "      <th>CPI</th>\n",
       "      <th>Unemployment</th>\n",
       "    </tr>\n",
       "  </thead>\n",
       "  <tbody>\n",
       "    <tr>\n",
       "      <th>0</th>\n",
       "      <td>1</td>\n",
       "      <td>02-05-2010</td>\n",
       "      <td>16,43,691</td>\n",
       "      <td>0</td>\n",
       "      <td>42.31</td>\n",
       "      <td>2.572</td>\n",
       "      <td>211</td>\n",
       "      <td>8.106</td>\n",
       "    </tr>\n",
       "    <tr>\n",
       "      <th>1</th>\n",
       "      <td>1</td>\n",
       "      <td>02-12-2010</td>\n",
       "      <td>16,41,957</td>\n",
       "      <td>1</td>\n",
       "      <td>38.51</td>\n",
       "      <td>2.548</td>\n",
       "      <td>211</td>\n",
       "      <td>8.106</td>\n",
       "    </tr>\n",
       "    <tr>\n",
       "      <th>2</th>\n",
       "      <td>1</td>\n",
       "      <td>2/19/2010</td>\n",
       "      <td>16,11,968</td>\n",
       "      <td>0</td>\n",
       "      <td>39.93</td>\n",
       "      <td>2.514</td>\n",
       "      <td>211</td>\n",
       "      <td>8.106</td>\n",
       "    </tr>\n",
       "    <tr>\n",
       "      <th>3</th>\n",
       "      <td>1</td>\n",
       "      <td>2/26/2010</td>\n",
       "      <td>14,09,728</td>\n",
       "      <td>0</td>\n",
       "      <td>46.63</td>\n",
       "      <td>2.561</td>\n",
       "      <td>211</td>\n",
       "      <td>8.106</td>\n",
       "    </tr>\n",
       "    <tr>\n",
       "      <th>4</th>\n",
       "      <td>1</td>\n",
       "      <td>03-05-2010</td>\n",
       "      <td>15,54,807</td>\n",
       "      <td>0</td>\n",
       "      <td>46.50</td>\n",
       "      <td>2.625</td>\n",
       "      <td>211</td>\n",
       "      <td>8.106</td>\n",
       "    </tr>\n",
       "    <tr>\n",
       "      <th>...</th>\n",
       "      <td>...</td>\n",
       "      <td>...</td>\n",
       "      <td>...</td>\n",
       "      <td>...</td>\n",
       "      <td>...</td>\n",
       "      <td>...</td>\n",
       "      <td>...</td>\n",
       "      <td>...</td>\n",
       "    </tr>\n",
       "    <tr>\n",
       "      <th>6430</th>\n",
       "      <td>45</td>\n",
       "      <td>9/28/2012</td>\n",
       "      <td>7,13,174</td>\n",
       "      <td>0</td>\n",
       "      <td>64.88</td>\n",
       "      <td>3.997</td>\n",
       "      <td>192</td>\n",
       "      <td>8.684</td>\n",
       "    </tr>\n",
       "    <tr>\n",
       "      <th>6431</th>\n",
       "      <td>45</td>\n",
       "      <td>10-05-2012</td>\n",
       "      <td>7,33,455</td>\n",
       "      <td>0</td>\n",
       "      <td>64.89</td>\n",
       "      <td>3.985</td>\n",
       "      <td>192</td>\n",
       "      <td>8.667</td>\n",
       "    </tr>\n",
       "    <tr>\n",
       "      <th>6432</th>\n",
       "      <td>45</td>\n",
       "      <td>10-12-2012</td>\n",
       "      <td>7,34,464</td>\n",
       "      <td>0</td>\n",
       "      <td>54.47</td>\n",
       "      <td>4.000</td>\n",
       "      <td>192</td>\n",
       "      <td>8.667</td>\n",
       "    </tr>\n",
       "    <tr>\n",
       "      <th>6433</th>\n",
       "      <td>45</td>\n",
       "      <td>10/19/2012</td>\n",
       "      <td>7,18,126</td>\n",
       "      <td>0</td>\n",
       "      <td>56.47</td>\n",
       "      <td>3.969</td>\n",
       "      <td>192</td>\n",
       "      <td>8.667</td>\n",
       "    </tr>\n",
       "    <tr>\n",
       "      <th>6434</th>\n",
       "      <td>45</td>\n",
       "      <td>10/26/2012</td>\n",
       "      <td>7,60,281</td>\n",
       "      <td>0</td>\n",
       "      <td>58.85</td>\n",
       "      <td>3.882</td>\n",
       "      <td>192</td>\n",
       "      <td>8.667</td>\n",
       "    </tr>\n",
       "  </tbody>\n",
       "</table>\n",
       "<p>6435 rows × 8 columns</p>\n",
       "</div>"
      ]
     },
     "execution_count": 11,
     "metadata": {},
     "output_type": "execute_result"
    }
   ],
   "execution_count": 11
  },
  {
   "metadata": {},
   "cell_type": "markdown",
   "source": "<p> Checking for any Wrong Store Number (No any)",
   "id": "62d820cad97a54b8"
  },
  {
   "metadata": {
    "ExecuteTime": {
     "end_time": "2025-07-02T16:13:50.884701Z",
     "start_time": "2025-07-02T16:13:50.871870Z"
    }
   },
   "cell_type": "code",
   "source": "(df['Store_Number'] < 1).sum()",
   "id": "db5eb07d63f4074",
   "outputs": [
    {
     "data": {
      "text/plain": [
       "np.int64(0)"
      ]
     },
     "execution_count": 12,
     "metadata": {},
     "output_type": "execute_result"
    }
   ],
   "execution_count": 12
  },
  {
   "metadata": {},
   "cell_type": "markdown",
   "source": "### 4. Changing Data Types",
   "id": "f747371523301487"
  },
  {
   "metadata": {},
   "cell_type": "markdown",
   "source": "Changing the data type of 'date' to datetime",
   "id": "8aefdad55246446d"
  },
  {
   "metadata": {
    "ExecuteTime": {
     "end_time": "2025-07-02T16:13:51.043674Z",
     "start_time": "2025-07-02T16:13:51.014641Z"
    }
   },
   "cell_type": "code",
   "source": "df['Date'] = pd.to_datetime(df['Date'], format='mixed')",
   "id": "f1b99b611a1d74a",
   "outputs": [],
   "execution_count": 13
  },
  {
   "metadata": {},
   "cell_type": "markdown",
   "source": "<p> Changing the data type of weekly to int after removing the commas between them",
   "id": "a472659c9896d830"
  },
  {
   "metadata": {
    "ExecuteTime": {
     "end_time": "2025-07-02T16:13:51.171591Z",
     "start_time": "2025-07-02T16:13:51.150179Z"
    }
   },
   "cell_type": "code",
   "source": "df['Weekly_Sales'] = df['Weekly_Sales'].str.replace(',','').astype(int)",
   "id": "fcf8ac4755a6e71",
   "outputs": [],
   "execution_count": 14
  },
  {
   "metadata": {
    "ExecuteTime": {
     "end_time": "2025-07-02T16:13:51.258052Z",
     "start_time": "2025-07-02T16:13:51.234794Z"
    }
   },
   "cell_type": "code",
   "source": "df.dtypes",
   "id": "7266abdb45b63d25",
   "outputs": [
    {
     "data": {
      "text/plain": [
       "Store_Number             int64\n",
       "Date            datetime64[ns]\n",
       "Weekly_Sales             int64\n",
       "Holiday_Flag             int64\n",
       "Temperature            float64\n",
       "Fuel_Price             float64\n",
       " CPI                     int64\n",
       "Unemployment           float64\n",
       "dtype: object"
      ]
     },
     "execution_count": 15,
     "metadata": {},
     "output_type": "execute_result"
    }
   ],
   "execution_count": 15
  },
  {
   "metadata": {},
   "cell_type": "markdown",
   "source": "## 5. Exploratory Data Analysis (EDA)",
   "id": "bfa237255c158998"
  },
  {
   "metadata": {},
   "cell_type": "markdown",
   "source": "Average sales during holidays vs non-holidays",
   "id": "b73ac49c3adc863a"
  },
  {
   "metadata": {
    "ExecuteTime": {
     "end_time": "2025-07-02T16:13:51.372992Z",
     "start_time": "2025-07-02T16:13:51.346644Z"
    }
   },
   "cell_type": "code",
   "source": "df.groupby('Holiday_Flag')['Weekly_Sales'].mean().round(2)",
   "id": "36155da65b3934f9",
   "outputs": [
    {
     "data": {
      "text/plain": [
       "Holiday_Flag\n",
       "0    1041256.38\n",
       "1    1122887.89\n",
       "Name: Weekly_Sales, dtype: float64"
      ]
     },
     "execution_count": 16,
     "metadata": {},
     "output_type": "execute_result"
    }
   ],
   "execution_count": 16
  },
  {
   "metadata": {},
   "cell_type": "markdown",
   "source": "Correlation with economic indicators (Temperature, CPI, Fuel Price, Unemployment)",
   "id": "6035adf1cb6841e0"
  },
  {
   "metadata": {
    "ExecuteTime": {
     "end_time": "2025-07-02T16:13:51.528879Z",
     "start_time": "2025-07-02T16:13:51.506399Z"
    }
   },
   "cell_type": "code",
   "source": "df.corr(numeric_only=True)['Weekly_Sales']",
   "id": "53b00db8a815ff45",
   "outputs": [
    {
     "data": {
      "text/plain": [
       "Store_Number   -0.335332\n",
       "Weekly_Sales    1.000000\n",
       "Holiday_Flag    0.036891\n",
       "Temperature    -0.063810\n",
       "Fuel_Price      0.009464\n",
       " CPI           -0.072496\n",
       "Unemployment   -0.106176\n",
       "Name: Weekly_Sales, dtype: float64"
      ]
     },
     "execution_count": 17,
     "metadata": {},
     "output_type": "execute_result"
    }
   ],
   "execution_count": 17
  },
  {
   "metadata": {},
   "cell_type": "markdown",
   "source": [
    "#### Sales Trend Overtime\n",
    "- Total Weekly Sales Over Time"
   ],
   "id": "f444ce3efe1a0c96"
  },
  {
   "metadata": {},
   "cell_type": "markdown",
   "source": "Plotting line graph for 'Total Weekly Sales Over Time' - Year vs. Weekly Sales graph",
   "id": "fd486fb708ad6c28"
  },
  {
   "metadata": {
    "ExecuteTime": {
     "end_time": "2025-07-02T16:13:52.740091Z",
     "start_time": "2025-07-02T16:13:51.737027Z"
    }
   },
   "cell_type": "code",
   "source": [
    "df['Year'] = df['Date'].dt.year\n",
    "yearly_sales = df.groupby('Year')['Weekly_Sales'].sum().reset_index()\n",
    "ax = yearly_sales.plot(x='Year', y='Weekly_Sales',  color = 'blue', label = 'Weekly Sales',figsize=(10, 4))\n",
    "ax.set_xticks(yearly_sales['Year'])\n",
    "plt.title('Total Weekly Sales Over Time')\n",
    "plt.ylabel('Weekly Sales')\n",
    "plt.show()"
   ],
   "id": "bbdfe765506f393a",
   "outputs": [
    {
     "data": {
      "text/plain": [
       "<Figure size 1000x400 with 1 Axes>"
      ],
      "image/png": "[encoded data removed]"
     },
     "metadata": {},
     "output_type": "display_data"
    }
   ],
   "execution_count": 18
  },
  {
   "metadata": {},
   "cell_type": "markdown",
   "source": [
    "#### Store-wise Sales\n",
    "- Total Sales Per Store"
   ],
   "id": "67b3d5da891da2d3"
  },
  {
   "metadata": {},
   "cell_type": "markdown",
   "source": "Plotting horizontal bar graph for 'Total Sales Per Store' - Weekly Sales vs. Store_Number graph",
   "id": "654e5dc71aa55d6d"
  },
  {
   "metadata": {
    "ExecuteTime": {
     "end_time": "2025-07-02T16:13:54.708452Z",
     "start_time": "2025-07-02T16:13:53.050694Z"
    }
   },
   "cell_type": "code",
   "source": [
    "plt.figure(figsize=(8,8))\n",
    "store_wise_sales = df.groupby('Store_Number')['Weekly_Sales'].sum().reset_index()\n",
    "plt.barh(store_wise_sales['Store_Number'], store_wise_sales['Weekly_Sales'], color='green',alpha = 0.5)\n",
    "plt.title('Total Sales Per Store')\n",
    "plt.yticks(range(len(store_wise_sales['Store_Number'])))\n",
    "plt.xlabel('Weekly Sales')\n",
    "plt.ylabel('Store Number')\n",
    "plt.show()\n"
   ],
   "id": "d139ea87d4ed291e",
   "outputs": [
    {
     "data": {
      "text/plain": [
       "<Figure size 800x800 with 1 Axes>"
      ],
      "image/png": "[encoded data removed]"
     },
     "metadata": {},
     "output_type": "display_data"
    }
   ],
   "execution_count": 19
  },
  {
   "metadata": {},
   "cell_type": "markdown",
   "source": [
    "#### Holiday Impact\n",
    "- Comparing Sales Between Holidays(1) and Non-Holidays(0)"
   ],
   "id": "412c0f5ca041b977"
  },
  {
   "metadata": {},
   "cell_type": "markdown",
   "source": "Plotting pie chart to compare sales between holidays and non-holidays",
   "id": "5bf5c8b42708a62e"
  },
  {
   "metadata": {
    "ExecuteTime": {
     "end_time": "2025-07-02T16:13:55.021266Z",
     "start_time": "2025-07-02T16:13:54.774681Z"
    }
   },
   "cell_type": "code",
   "source": [
    "plt.figure(figsize=(5,5))\n",
    "holiday_impact = df.groupby('Holiday_Flag')['Weekly_Sales'].sum()\n",
    "labels = ['Non-Holiday (Flag=0)', 'Holiday (Flag=1)']\n",
    "plt.pie(holiday_impact, labels = labels, autopct='%1.1f%%', startangle=140)\n",
    "plt.title('Comparing Sales Between Holidays and Non-Holidays')\n",
    "plt.axis('equal')\n",
    "plt.show()"
   ],
   "id": "ed2235b16cc0ff9e",
   "outputs": [
    {
     "data": {
      "text/plain": [
       "<Figure size 500x500 with 1 Axes>"
      ],
      "image/png": "[encoded data removed]"
     },
     "metadata": {},
     "output_type": "display_data"
    }
   ],
   "execution_count": 20
  },
  {
   "metadata": {},
   "cell_type": "markdown",
   "source": [
    "#### Reverting Back the Dataset to original arrangement before exporting\n",
    "(i.e according to Index)"
   ],
   "id": "88f9a22bc4961de6"
  },
  {
   "metadata": {
    "ExecuteTime": {
     "end_time": "2025-07-02T16:13:55.082042Z",
     "start_time": "2025-07-02T16:13:55.074997Z"
    }
   },
   "cell_type": "code",
   "source": "df.sort_index(inplace = True)",
   "id": "b0025fb1e2e403b4",
   "outputs": [],
   "execution_count": 21
  },
  {
   "metadata": {
    "ExecuteTime": {
     "end_time": "2025-07-02T16:13:55.153299Z",
     "start_time": "2025-07-02T16:13:55.113696Z"
    }
   },
   "cell_type": "code",
   "source": "df.head()",
   "id": "e196d32fb965606b",
   "outputs": [
    {
     "data": {
      "text/plain": [
       "   Store_Number       Date  Weekly_Sales  Holiday_Flag  Temperature  \\\n",
       "0             1 2010-02-05       1643691             0        42.31   \n",
       "1             1 2010-02-12       1641957             1        38.51   \n",
       "2             1 2010-02-19       1611968             0        39.93   \n",
       "3             1 2010-02-26       1409728             0        46.63   \n",
       "4             1 2010-03-05       1554807             0        46.50   \n",
       "\n",
       "   Fuel_Price   CPI   Unemployment  Year  \n",
       "0       2.572    211         8.106  2010  \n",
       "1       2.548    211         8.106  2010  \n",
       "2       2.514    211         8.106  2010  \n",
       "3       2.561    211         8.106  2010  \n",
       "4       2.625    211         8.106  2010  "
      ],
      "text/html": [
       "<div>\n",
       "<style scoped>\n",
       "    .dataframe tbody tr th:only-of-type {\n",
       "        vertical-align: middle;\n",
       "    }\n",
       "\n",
       "    .dataframe tbody tr th {\n",
       "        vertical-align: top;\n",
       "    }\n",
       "\n",
       "    .dataframe thead th {\n",
       "        text-align: right;\n",
       "    }\n",
       "</style>\n",
       "<table border=\"1\" class=\"dataframe\">\n",
       "  <thead>\n",
       "    <tr style=\"text-align: right;\">\n",
       "      <th></th>\n",
       "      <th>Store_Number</th>\n",
       "      <th>Date</th>\n",
       "      <th>Weekly_Sales</th>\n",
       "      <th>Holiday_Flag</th>\n",
       "      <th>Temperature</th>\n",
       "      <th>Fuel_Price</th>\n",
       "      <th>CPI</th>\n",
       "      <th>Unemployment</th>\n",
       "      <th>Year</th>\n",
       "    </tr>\n",
       "  </thead>\n",
       "  <tbody>\n",
       "    <tr>\n",
       "      <th>0</th>\n",
       "      <td>1</td>\n",
       "      <td>2010-02-05</td>\n",
       "      <td>1643691</td>\n",
       "      <td>0</td>\n",
       "      <td>42.31</td>\n",
       "      <td>2.572</td>\n",
       "      <td>211</td>\n",
       "      <td>8.106</td>\n",
       "      <td>2010</td>\n",
       "    </tr>\n",
       "    <tr>\n",
       "      <th>1</th>\n",
       "      <td>1</td>\n",
       "      <td>2010-02-12</td>\n",
       "      <td>1641957</td>\n",
       "      <td>1</td>\n",
       "      <td>38.51</td>\n",
       "      <td>2.548</td>\n",
       "      <td>211</td>\n",
       "      <td>8.106</td>\n",
       "      <td>2010</td>\n",
       "    </tr>\n",
       "    <tr>\n",
       "      <th>2</th>\n",
       "      <td>1</td>\n",
       "      <td>2010-02-19</td>\n",
       "      <td>1611968</td>\n",
       "      <td>0</td>\n",
       "      <td>39.93</td>\n",
       "      <td>2.514</td>\n",
       "      <td>211</td>\n",
       "      <td>8.106</td>\n",
       "      <td>2010</td>\n",
       "    </tr>\n",
       "    <tr>\n",
       "      <th>3</th>\n",
       "      <td>1</td>\n",
       "      <td>2010-02-26</td>\n",
       "      <td>1409728</td>\n",
       "      <td>0</td>\n",
       "      <td>46.63</td>\n",
       "      <td>2.561</td>\n",
       "      <td>211</td>\n",
       "      <td>8.106</td>\n",
       "      <td>2010</td>\n",
       "    </tr>\n",
       "    <tr>\n",
       "      <th>4</th>\n",
       "      <td>1</td>\n",
       "      <td>2010-03-05</td>\n",
       "      <td>1554807</td>\n",
       "      <td>0</td>\n",
       "      <td>46.50</td>\n",
       "      <td>2.625</td>\n",
       "      <td>211</td>\n",
       "      <td>8.106</td>\n",
       "      <td>2010</td>\n",
       "    </tr>\n",
       "  </tbody>\n",
       "</table>\n",
       "</div>"
      ]
     },
     "execution_count": 22,
     "metadata": {},
     "output_type": "execute_result"
    }
   ],
   "execution_count": 22
  },
  {
   "metadata": {},
   "cell_type": "markdown",
   "source": "## 6. Exporting Data",
   "id": "75154d822e442951"
  },
  {
   "metadata": {
    "ExecuteTime": {
     "end_time": "2025-07-02T16:13:55.615706Z",
     "start_time": "2025-07-02T16:13:55.476550Z"
    }
   },
   "cell_type": "code",
   "source": "df.to_csv('Cleaned_Walmart_Sales.csv', index = False)",
   "id": "3d7927c27af8d6d",
   "outputs": [],
   "execution_count": 23
  }
 ],
 "metadata": {
  "kernelspec": {
   "display_name": "Python 3",
   "language": "python",
   "name": "python3"
  },
  "language_info": {
   "codemirror_mode": {
    "name": "ipython",
    "version": 2
   },
   "file_extension": ".py",
   "mimetype": "text/x-python",
   "name": "python",
   "nbconvert_exporter": "python",
   "pygments_lexer": "ipython2",
   "version": "2.7.6"
  }
 },
 "nbformat": 4,
 "nbformat_minor": 5
}
